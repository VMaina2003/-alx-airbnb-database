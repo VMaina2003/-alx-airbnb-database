{
 "cells": [
  {
   "cell_type": "markdown",
   "id": "93ed3afc",
   "metadata": {},
   "source": [
    "My Database Normalization Statement\n",
    "Based on my review of the database schema for the AirBnB clone project, I have confirmed that the design is properly normalized and meets the requirements of Third Normal Form (3NF).\n",
    "\n",
    "First Normal Form (1NF)\n",
    "I ensured that all my tables are in 1NF by confirming that each column contains a single, atomic value. For example, in my User table, the phone_number is a single column. I have no repeating groups of data in any of my tables.\n",
    "\n",
    "Second Normal Form (2NF)\n",
    "My design is also in 2NF. I achieved this by using single-column primary keys for all my tables (e.g., user_id, property_id). This means that all non-key attributes in my tables are fully dependent on the entire primary key, as there are no composite keys to consider.\n",
    "\n",
    "Third Normal Form (3NF)\n",
    "I have verified that my schema is in 3NF by checking for transitive dependencies. A transitive dependency would mean a non-key attribute is dependent on another non-key attribute, not on the primary key itself.\n",
    "\n",
    "In my User table, all attributes (e.g., first_name, email) are directly dependent on the user_id primary key.\n",
    "\n",
    "In my Property table, attributes are directly dependent on property_id, and host_id is a foreign key, correctly linking to the User table without introducing redundancy.\n",
    "\n",
    "Similarly, for my Booking, Payment, Review, and Message tables, all non-key attributes are directly tied to their respective primary keys.\n",
    "\n",
    "I am confident that this design is efficient, free of significant data redundancy, and maintains strong data integrity through the use of primary and foreign keys."
   ]
  }
 ],
 "metadata": {
  "language_info": {
   "name": "python"
  }
 },
 "nbformat": 4,
 "nbformat_minor": 5
}
